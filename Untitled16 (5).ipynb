{
  "nbformat": 4,
  "nbformat_minor": 0,
  "metadata": {
    "colab": {
      "provenance": []
    },
    "kernelspec": {
      "name": "python3",
      "display_name": "Python 3"
    },
    "language_info": {
      "name": "python"
    }
  },
  "cells": [
    {
      "cell_type": "markdown",
      "source": [
        " PRACTICE PROBLEMS 1\n",
        "\n"
      ],
      "metadata": {
        "id": "exXRDoqhUs4g"
      }
    },
    {
      "cell_type": "markdown",
      "source": [
        "question:1\n"
      ],
      "metadata": {
        "id": "dbnWPTVdYSVx"
      }
    },
    {
      "cell_type": "code",
      "execution_count": null,
      "metadata": {
        "colab": {
          "base_uri": "https://localhost:8080/"
        },
        "id": "q92OTZ_-Uriz",
        "outputId": "e0888e6e-bbc0-4d87-8b2b-51a2faf26270"
      },
      "outputs": [
        {
          "output_type": "stream",
          "name": "stdout",
          "text": [
            "enter the radius\n",
            "10\n",
            "area of a circle is 62.857142857142854\n"
          ]
        }
      ],
      "source": [
        "r=int(input(\"enter the radius\\n\"))\n",
        "area=2*22/7*r\n",
        "area=print(\"area of a circle is\",area)\n"
      ]
    },
    {
      "cell_type": "markdown",
      "source": [
        "question:2"
      ],
      "metadata": {
        "id": "ZFlj6gRIYYar"
      }
    },
    {
      "cell_type": "code",
      "source": [
        " name=input(\"enter the name\\n\")\n",
        " roll_no=int(input(\"enter the rollno\\n\"))\n",
        " mark=int(input(\"enter the mark\\n\"))"
      ],
      "metadata": {
        "colab": {
          "base_uri": "https://localhost:8080/"
        },
        "id": "_yMDZbCUYFuJ",
        "outputId": "51f0d052-aea7-40de-8fe0-c03ece44468b"
      },
      "execution_count": null,
      "outputs": [
        {
          "name": "stdout",
          "output_type": "stream",
          "text": [
            "enter the name\n",
            "ambadi\n",
            "enter the rollno\n",
            "13\n",
            "enter the mark\n",
            "98\n"
          ]
        }
      ]
    },
    {
      "cell_type": "markdown",
      "source": [
        "question:3"
      ],
      "metadata": {
        "id": "6r7R5COjZn3J"
      }
    },
    {
      "cell_type": "code",
      "source": [
        "def lar_list(list):\n",
        "  large=list[0]\n",
        "  for i in list:\n",
        "    if i>large:\n",
        "      large=i\n",
        "  return large\n",
        "\n",
        "list1=[23,5,3,10]\n",
        "print(\"the list is \",list1,\"\\n\")\n",
        "print(lar_list(list1),\"is the large\\n\")\n"
      ],
      "metadata": {
        "colab": {
          "base_uri": "https://localhost:8080/"
        },
        "id": "gV9_pxoaXHLc",
        "outputId": "487115dc-a8fc-4b34-aded-40fcacc82d55"
      },
      "execution_count": null,
      "outputs": [
        {
          "output_type": "stream",
          "name": "stdout",
          "text": [
            "the list is  [23, 5, 3, 10] \n",
            "\n",
            "23 is the large\n",
            "\n"
          ]
        }
      ]
    },
    {
      "cell_type": "markdown",
      "source": [
        "question:4"
      ],
      "metadata": {
        "id": "mSLDftMneEu2"
      }
    },
    {
      "cell_type": "code",
      "source": [
        "start=10\n",
        "end=20\n",
        "prev_num=9\n",
        "\n",
        "for current_number in range(start,end+1):\n",
        "  print(\"current number\",current_number)\n",
        "  print(\"previous number\",prev_num)\n",
        "  print(\"sum\",current_number+prev_num)\n"
      ],
      "metadata": {
        "id": "hvi9T1qKemw1",
        "colab": {
          "base_uri": "https://localhost:8080/"
        },
        "outputId": "4b09dd56-5f0e-4d55-a50f-9558e50ee162"
      },
      "execution_count": null,
      "outputs": [
        {
          "output_type": "stream",
          "name": "stdout",
          "text": [
            "current number 10\n",
            "previous number 9\n",
            "sum 19\n",
            "current number 11\n",
            "previous number 9\n",
            "sum 20\n",
            "current number 12\n",
            "previous number 9\n",
            "sum 21\n",
            "current number 13\n",
            "previous number 9\n",
            "sum 22\n",
            "current number 14\n",
            "previous number 9\n",
            "sum 23\n",
            "current number 15\n",
            "previous number 9\n",
            "sum 24\n",
            "current number 16\n",
            "previous number 9\n",
            "sum 25\n",
            "current number 17\n",
            "previous number 9\n",
            "sum 26\n",
            "current number 18\n",
            "previous number 9\n",
            "sum 27\n",
            "current number 19\n",
            "previous number 9\n",
            "sum 28\n",
            "current number 20\n",
            "previous number 9\n",
            "sum 29\n"
          ]
        }
      ]
    },
    {
      "cell_type": "markdown",
      "source": [
        "question:5"
      ],
      "metadata": {
        "id": "vBqUava4gd_1"
      }
    },
    {
      "cell_type": "code",
      "source": [
        "list2=[5,10,12,15,18,20]\n",
        "div5=list(filter(lambda x:(x%5==0),list2))\n",
        "print(\"the list is\",list2)\n",
        "print(\"the divisor of 5 are\",div5)"
      ],
      "metadata": {
        "colab": {
          "base_uri": "https://localhost:8080/"
        },
        "id": "9WxyasgFf45W",
        "outputId": "71894637-e8e0-4d3b-c530-ffc81565552b"
      },
      "execution_count": null,
      "outputs": [
        {
          "output_type": "stream",
          "name": "stdout",
          "text": [
            "the list is [5, 10, 12, 15, 18, 20]\n",
            "the divisor of 5 are [5, 10, 15, 20]\n"
          ]
        }
      ]
    },
    {
      "cell_type": "markdown",
      "source": [
        "question:6"
      ],
      "metadata": {
        "id": "jzUjg8StpC5C"
      }
    },
    {
      "cell_type": "code",
      "source": [
        "num=int(input(\"enter a number\\n\"))\n",
        "if num>1:\n",
        "  for i in range(2,num):\n",
        "    if num%i==0:\n",
        "      print(num,\"is not a prime number \")\n",
        "    else:\n",
        "      print(num,'is a prime number')\n"
      ],
      "metadata": {
        "colab": {
          "base_uri": "https://localhost:8080/"
        },
        "id": "5nZMypmehuon",
        "outputId": "416a3f8c-69ea-4ff4-908b-e91f2091248d"
      },
      "execution_count": null,
      "outputs": [
        {
          "output_type": "stream",
          "name": "stdout",
          "text": [
            "enter a number\n",
            "11\n",
            "11 is a prime number\n",
            "11 is a prime number\n",
            "11 is a prime number\n",
            "11 is a prime number\n",
            "11 is a prime number\n",
            "11 is a prime number\n",
            "11 is a prime number\n",
            "11 is a prime number\n",
            "11 is a prime number\n"
          ]
        }
      ]
    },
    {
      "cell_type": "markdown",
      "source": [
        "question:7"
      ],
      "metadata": {
        "id": "MuRJ36Tio5FO"
      }
    },
    {
      "cell_type": "code",
      "source": [
        "list3=[10,20,30,40]\n",
        "print(\"list before reversal\",list3)\n",
        "rev_list=[]\n",
        "for i in list3:\n",
        "  rev_list=[i]+rev_list\n",
        "print(\"list after reversal\",rev_list)"
      ],
      "metadata": {
        "id": "rC4RIxaXo1-I",
        "colab": {
          "base_uri": "https://localhost:8080/"
        },
        "outputId": "90e01b0b-eac3-46ca-f26e-b5d056caf20a"
      },
      "execution_count": 27,
      "outputs": [
        {
          "output_type": "stream",
          "name": "stdout",
          "text": [
            "list before reversal [10, 20, 30, 40]\n",
            "list after reversal [40, 30, 20, 10]\n"
          ]
        }
      ]
    },
    {
      "cell_type": "markdown",
      "source": [
        "question:8"
      ],
      "metadata": {
        "id": "hnS79pJIrccl"
      }
    },
    {
      "cell_type": "code",
      "source": [
        "def print_pattern():\n",
        "  print(\"*\"*1)\n",
        "  print(\"*\"*2)\n",
        "  print(\"*\"*3)\n",
        "  print(\"*\"*4)\n",
        "\n",
        "print_pattern()"
      ],
      "metadata": {
        "colab": {
          "base_uri": "https://localhost:8080/"
        },
        "id": "ls7Fx-sprbOu",
        "outputId": "c0185b3e-d1f2-4098-820f-12855996a200"
      },
      "execution_count": 29,
      "outputs": [
        {
          "output_type": "stream",
          "name": "stdout",
          "text": [
            "*\n",
            "**\n",
            "***\n",
            "****\n"
          ]
        }
      ]
    },
    {
      "cell_type": "markdown",
      "source": [
        "question:9"
      ],
      "metadata": {
        "id": "0kWUit6Ys0_c"
      }
    },
    {
      "cell_type": "code",
      "source": [
        "num1=int(input(\"enter the 1st number\\n\"))\n",
        "num2=int(input(\"enter the 2nd nymber\\n\"))\n",
        "num3=int(input(\"enter the 3rd number\\n\"))\n",
        "\n",
        "if (num1>num2) and (num1>num3):\n",
        "  print( num1,\" is greater\")\n",
        "elif (num2>num1) and (num2>num3):\n",
        "  print(num2,\"is greater\")\n",
        "\n",
        "else:\n",
        "  print(num3,\"is greater\")\n"
      ],
      "metadata": {
        "colab": {
          "base_uri": "https://localhost:8080/"
        },
        "id": "i9eCCn3vrUA1",
        "outputId": "103a82d1-15bc-4158-aa32-b01a746e27d2"
      },
      "execution_count": 31,
      "outputs": [
        {
          "output_type": "stream",
          "name": "stdout",
          "text": [
            "enter the 1st number\n",
            "45\n",
            "enter the 2nd nymber\n",
            "46\n",
            "enter the 3rd number\n",
            "44\n",
            "46 is greater\n"
          ]
        }
      ]
    },
    {
      "cell_type": "markdown",
      "source": [
        "question:10"
      ],
      "metadata": {
        "id": "ffYzrI4a2-KE"
      }
    },
    {
      "cell_type": "code",
      "source": [
        "stars=5\n",
        "\n",
        "for i in range(1,stars+1):\n",
        "  print(\"*\"*i)\n",
        "for i in range(stars -1,0,-1):\n",
        "  print(\"*\"*i)"
      ],
      "metadata": {
        "id": "sYqz4TeemXxL",
        "colab": {
          "base_uri": "https://localhost:8080/"
        },
        "outputId": "e1500f8e-8599-4866-c44f-60fa551203b0"
      },
      "execution_count": 34,
      "outputs": [
        {
          "output_type": "stream",
          "name": "stdout",
          "text": [
            "*\n",
            "**\n",
            "***\n",
            "****\n",
            "*****\n",
            "****\n",
            "***\n",
            "**\n",
            "*\n"
          ]
        }
      ]
    },
    {
      "cell_type": "markdown",
      "source": [
        "PRACTICE PROBLEMS 2"
      ],
      "metadata": {
        "id": "aVnscrFn5MC9"
      }
    },
    {
      "cell_type": "markdown",
      "source": [
        "question:1"
      ],
      "metadata": {
        "id": "7TMe6MiX8z4N"
      }
    },
    {
      "cell_type": "code",
      "source": [
        "ex=input(\"enter a string:\")\n",
        "co={}\n",
        "for i in ex:\n",
        "  if i in co:\n",
        "    co[i]+=1\n",
        "  else:\n",
        "    co[i]=1\n",
        "print(co)\n"
      ],
      "metadata": {
        "colab": {
          "base_uri": "https://localhost:8080/"
        },
        "id": "8wic5mry39I5",
        "outputId": "7a180b88-4407-4435-bd0f-15d3a19e391c"
      },
      "execution_count": 83,
      "outputs": [
        {
          "output_type": "stream",
          "name": "stdout",
          "text": [
            "enter a string:assembly\n",
            "{'a': 1, 's': 2, 'e': 1, 'm': 1, 'b': 1, 'l': 1, 'y': 1}\n"
          ]
        }
      ]
    },
    {
      "cell_type": "markdown",
      "source": [
        "question:2"
      ],
      "metadata": {
        "id": "CelmMulv8yGQ"
      }
    },
    {
      "cell_type": "code",
      "source": [
        "def maximum(a,b,c):\n",
        "  list=[a,b,c]\n",
        "  return max(list)\n",
        "\n",
        "a=35\n",
        "b=31\n",
        "c=56\n",
        "print(maximum(a,b,c))"
      ],
      "metadata": {
        "colab": {
          "base_uri": "https://localhost:8080/"
        },
        "id": "V682dRRr7O0Z",
        "outputId": "16574524-0b11-4905-a2da-dbf0ad1a7a35"
      },
      "execution_count": 47,
      "outputs": [
        {
          "output_type": "stream",
          "name": "stdout",
          "text": [
            "56\n"
          ]
        }
      ]
    },
    {
      "cell_type": "markdown",
      "source": [
        "question:3"
      ],
      "metadata": {
        "id": "qCvru5-c92Me"
      }
    },
    {
      "cell_type": "code",
      "source": [
        "def exponent(base,exp):\n",
        "  return base**exp\n",
        "\n",
        "base=int(input(\"enter the base number\\n\"))\n",
        "exp=int(input(\"enter the exp value\\n\"))\n",
        "result=exponent(base,exp)\n",
        "print(result)"
      ],
      "metadata": {
        "colab": {
          "base_uri": "https://localhost:8080/"
        },
        "id": "ck_T1maq96qx",
        "outputId": "0a17e434-2fe0-46c3-b676-8146faa85d5b"
      },
      "execution_count": 48,
      "outputs": [
        {
          "output_type": "stream",
          "name": "stdout",
          "text": [
            "enter the base number\n",
            "4\n",
            "enter the exp value\n",
            "5\n",
            "1024\n"
          ]
        }
      ]
    },
    {
      "cell_type": "markdown",
      "source": [
        "question:4"
      ],
      "metadata": {
        "id": "UNO2iRAy_GrJ"
      }
    },
    {
      "cell_type": "code",
      "source": [
        "def soc(n):\n",
        "  soc=0\n",
        "\n",
        "  for i in range(1,n):\n",
        "    soc +=i**3\n",
        "  return soc\n",
        "\n",
        "ran=int(input(\"enter the range to find cube\\n\"))\n",
        "if ran>1:\n",
        "  cube =soc(ran)\n",
        "  print(\"sum of cubes the +ve integer less than\",ran,\"is\",cube)\n",
        "else:\n",
        "  print(\"negative numbers are not accepted at the moment\")\n",
        "\n"
      ],
      "metadata": {
        "colab": {
          "base_uri": "https://localhost:8080/"
        },
        "id": "LEQ9FaoO-zIQ",
        "outputId": "8e3ea200-a4db-4e3a-c812-1e0d0ae6a6b7"
      },
      "execution_count": 84,
      "outputs": [
        {
          "output_type": "stream",
          "name": "stdout",
          "text": [
            "enter the range to find cube\n",
            "5\n",
            "sum of cubes the +ve integer less than 5 is 100\n"
          ]
        }
      ]
    },
    {
      "cell_type": "markdown",
      "source": [
        "question:5"
      ],
      "metadata": {
        "id": "7G2AWU8bFT-p"
      }
    },
    {
      "cell_type": "code",
      "source": [
        "for i in range(1,11):\n",
        "  if i%2==0 and i%5==0:\n",
        "    print(\"fizzbuzz\")\n",
        "  elif i%2==0:\n",
        "    print(\"fizz\")\n",
        "  elif i%5==0:\n",
        "    print(\"buzz\")\n",
        "  else:\n",
        "    print(i)"
      ],
      "metadata": {
        "colab": {
          "base_uri": "https://localhost:8080/"
        },
        "id": "YKKLCsxJFYP5",
        "outputId": "53e22019-7247-4bf3-d9ce-8808d50dcc21"
      },
      "execution_count": 51,
      "outputs": [
        {
          "output_type": "stream",
          "name": "stdout",
          "text": [
            "1\n",
            "fizz\n",
            "3\n",
            "fizz\n",
            "buzz\n",
            "fizz\n",
            "7\n",
            "fizz\n",
            "9\n",
            "fizzbuzz\n"
          ]
        }
      ]
    },
    {
      "cell_type": "markdown",
      "source": [
        "question:6"
      ],
      "metadata": {
        "id": "smpeD-RIG4z0"
      }
    },
    {
      "cell_type": "code",
      "source": [
        "def li(list):\n",
        "  return max(set(list),key=list.count)\n",
        "\n",
        "my_list=[2,3,4,3,5,3,6,3]\n",
        "print(\"most frequent element in\",my_list,\"is\",li(my_list))"
      ],
      "metadata": {
        "colab": {
          "base_uri": "https://localhost:8080/"
        },
        "id": "-1q3egHNG8B-",
        "outputId": "14fcd33b-a7f2-40cb-c11b-11aaaf9f3146"
      },
      "execution_count": 82,
      "outputs": [
        {
          "output_type": "stream",
          "name": "stdout",
          "text": [
            "most frequent element in [2, 3, 4, 3, 5, 3, 6, 3] is 3\n"
          ]
        }
      ]
    },
    {
      "cell_type": "markdown",
      "source": [
        "question:7"
      ],
      "metadata": {
        "id": "CaYRaK_CHXTN"
      }
    },
    {
      "cell_type": "code",
      "source": [
        "def sum_of_sq(numbers):\n",
        "  return sum(num**2 for num in numbers)\n",
        "\n",
        "lst=[2,3,4,5]\n",
        "print(\"sum of squares of\",lst,\"is\",sum_of_sq(lst) )"
      ],
      "metadata": {
        "colab": {
          "base_uri": "https://localhost:8080/"
        },
        "id": "vz029BZ9HWq-",
        "outputId": "218e3c81-ca79-42f6-a983-50dbe2b946a1"
      },
      "execution_count": 60,
      "outputs": [
        {
          "output_type": "stream",
          "name": "stdout",
          "text": [
            "sum of squares of [2, 3, 4, 5] is 54\n"
          ]
        }
      ]
    },
    {
      "cell_type": "markdown",
      "source": [
        "question:8"
      ],
      "metadata": {
        "id": "vseuWR_TLEEp"
      }
    },
    {
      "cell_type": "code",
      "source": [
        "for i in range(1,16):\n",
        "  if (i%2) ==  0:\n",
        "    print(i,\"-\",\"even\")\n",
        "  else:\n",
        "    print(i,\"-\",\"odd\")\n",
        ""
      ],
      "metadata": {
        "colab": {
          "base_uri": "https://localhost:8080/"
        },
        "id": "GbnHf_zmLDY7",
        "outputId": "898898a7-67e5-4aa2-a90c-a9af3f2de54b"
      },
      "execution_count": 63,
      "outputs": [
        {
          "output_type": "stream",
          "name": "stdout",
          "text": [
            "1 - odd\n",
            "2 - even\n",
            "3 - odd\n",
            "4 - even\n",
            "5 - odd\n",
            "6 - even\n",
            "7 - odd\n",
            "8 - even\n",
            "9 - odd\n",
            "10 - even\n",
            "11 - odd\n",
            "12 - even\n",
            "13 - odd\n",
            "14 - even\n",
            "15 - odd\n"
          ]
        }
      ]
    },
    {
      "cell_type": "markdown",
      "source": [
        "question:9"
      ],
      "metadata": {
        "id": "BSmbiMrPMpU-"
      }
    },
    {
      "cell_type": "code",
      "source": [
        "def cel_to_far(celsius):\n",
        "  return (celsius *9/5)+32\n",
        "def far_to_cel(fahrenheit):\n",
        "  return(fahrenheit-32)*5/9\n",
        "tem_fahr=51\n",
        "tem_to_cel=far_to_cel(tem_fahr)\n",
        "print(\"temperature in celsius is\",tem_to_cel)\n",
        "convert_cel_fahr=cel_to_far(tem_to_cel)\n",
        "print(\"temperature converted back to fahrehenit is\",convert_cel_fahr)\n"
      ],
      "metadata": {
        "colab": {
          "base_uri": "https://localhost:8080/"
        },
        "id": "_7-KiPGeMsuz",
        "outputId": "d955ca73-02f3-4609-83c1-e7f04b1fc628"
      },
      "execution_count": 68,
      "outputs": [
        {
          "output_type": "stream",
          "name": "stdout",
          "text": [
            "temperature in celsius is 10.555555555555555\n",
            "temperature converted back to fahrehenit is 51.0\n"
          ]
        }
      ]
    },
    {
      "cell_type": "markdown",
      "source": [
        "question:10"
      ],
      "metadata": {
        "id": "XenWn2SYRlmg"
      }
    },
    {
      "cell_type": "code",
      "source": [
        "def fac(n):\n",
        "  if (n==0):\n",
        "    return 1\n",
        "  else:\n",
        "    return n*fac(n-1)\n",
        "\n",
        "num=int(input(\"enter a number to find its factorial\"))\n",
        "print(\"factorial of \",num,\"is\",fac(num))\n"
      ],
      "metadata": {
        "colab": {
          "base_uri": "https://localhost:8080/"
        },
        "id": "-cC24E3LSbOJ",
        "outputId": "77192b7e-09bb-47d3-87e5-ff7739ca6088"
      },
      "execution_count": 78,
      "outputs": [
        {
          "output_type": "stream",
          "name": "stdout",
          "text": [
            "enter a number to find its factorial5\n",
            "factorial of  5 is 120\n"
          ]
        }
      ]
    },
    {
      "cell_type": "markdown",
      "source": [
        "DISCORD PRACTICE PROBLEM"
      ],
      "metadata": {
        "id": "jwJ8zo81XttO"
      }
    },
    {
      "cell_type": "markdown",
      "source": [
        "question:1"
      ],
      "metadata": {
        "id": "2CC700EtX_eo"
      }
    },
    {
      "cell_type": "code",
      "source": [
        "first=input(\"enter your first name\\n\")\n",
        "last=input(\"enter your last name\\n\")\n",
        "name=first+last\n",
        "print(\"hello\",name,\"how are you???\")"
      ],
      "metadata": {
        "colab": {
          "base_uri": "https://localhost:8080/"
        },
        "id": "eu_8vqOhTksw",
        "outputId": "09fe5dfe-1163-4369-c83a-9d1aaeb8368a"
      },
      "execution_count": 79,
      "outputs": [
        {
          "output_type": "stream",
          "name": "stdout",
          "text": [
            "enter your first name\n",
            "ambadi\n",
            "enter your last name\n",
            "b kurup\n",
            "hello ambadib kurup how are you???\n"
          ]
        }
      ]
    },
    {
      "cell_type": "markdown",
      "source": [
        "question:2"
      ],
      "metadata": {
        "id": "mwLkO1DvaG3z"
      }
    },
    {
      "cell_type": "code",
      "source": [
        "n=int(input(\"enter the value\\n\"))\n",
        "\n",
        "if (n%2!=0):\n",
        "  print(n,\"is odd\")\n",
        "elif n>=2 and n<=5:\n",
        "  print(\"no weird\")\n",
        "elif n>=6 and n<=20:\n",
        "  print(\"weird\")\n",
        "else:\n",
        "  print(\"not weird\")"
      ],
      "metadata": {
        "colab": {
          "base_uri": "https://localhost:8080/"
        },
        "id": "oKGOy4mVaKAx",
        "outputId": "6a10b85b-d6df-4671-f143-dd1216f5fbfa"
      },
      "execution_count": 81,
      "outputs": [
        {
          "output_type": "stream",
          "name": "stdout",
          "text": [
            "enter the value\n",
            "8\n",
            "weird\n"
          ]
        }
      ]
    }
  ]
}