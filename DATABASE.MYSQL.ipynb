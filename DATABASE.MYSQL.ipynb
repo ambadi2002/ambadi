{
 "cells": [
  {
   "cell_type": "code",
   "execution_count": 37,
   "id": "f453dd0e",
   "metadata": {},
   "outputs": [],
   "source": [
    "#connecting our database to python enviornment"
   ]
  },
  {
   "cell_type": "code",
   "execution_count": 41,
   "id": "77569001",
   "metadata": {},
   "outputs": [
    {
     "name": "stdout",
     "output_type": "stream",
     "text": [
      "Requirement already satisfied: pymysql in c:\\programdata\\anaconda3\\lib\\site-packages (1.1.1)Note: you may need to restart the kernel to use updated packages.\n",
      "\n"
     ]
    }
   ],
   "source": [
    "pip install pymysql"
   ]
  },
  {
   "cell_type": "code",
   "execution_count": 42,
   "id": "b9df0c7e",
   "metadata": {},
   "outputs": [
    {
     "name": "stdout",
     "output_type": "stream",
     "text": [
      "<pymysql.connections.Connection object at 0x000002521637F2D0>\n"
     ]
    }
   ],
   "source": [
    "import pymysql\n",
    "\n",
    "connection = pymysql.connect(\n",
    "    host='127.0.0.1',\n",
    "    user='root',\n",
    "    password='ambadibkurup@2024',\n",
    "    database='library'\n",
    ")\n",
    "print(connection)"
   ]
  },
  {
   "cell_type": "code",
   "execution_count": 45,
   "id": "8ce37b77",
   "metadata": {},
   "outputs": [],
   "source": [
    "#above conecting part can be done through a error handling method\n",
    "#defining a function for it\n",
    "#try except methode(error handling methode)"
   ]
  },
  {
   "cell_type": "code",
   "execution_count": 46,
   "id": "04642e9c",
   "metadata": {},
   "outputs": [],
   "source": [
    "def connect_to_database():\n",
    "    #try is used to connect the database\n",
    "    try:\n",
    "      connection = pymysql.connect(\n",
    "          host='127.0.0.1',\n",
    "          user='root',\n",
    "          password='ambadibkurup@2024',\n",
    "          database='library'\n",
    "      )\n",
    "      return connection\n",
    "#except is used to find error\n",
    "    except pymysql.connect.Error as err:\n",
    "        print(\"error connecting to database:\",err)\n",
    "        return none\n",
    "    "
   ]
  },
  {
   "cell_type": "code",
   "execution_count": 47,
   "id": "020c6aae",
   "metadata": {},
   "outputs": [
    {
     "name": "stdout",
     "output_type": "stream",
     "text": [
      "<pymysql.connections.Connection object at 0x0000025216348B90>\n"
     ]
    }
   ],
   "source": [
    "connection=connect_to_database()\n",
    "print(connection)"
   ]
  },
  {
   "cell_type": "code",
   "execution_count": 48,
   "id": "29c10232",
   "metadata": {},
   "outputs": [],
   "source": [
    "#adding a author to our data base"
   ]
  },
  {
   "cell_type": "code",
   "execution_count": 57,
   "id": "533893e0",
   "metadata": {},
   "outputs": [],
   "source": [
    "def add_author(name):\n",
    "    connection=connect_to_database()\n",
    "    cursor=connection.cursor()\n",
    "    #curser is an object that used to connect our python and sql\n",
    "    sql=\"INSERT INTO author(name) VALUES (%s)\"\n",
    "    #values in %S is provided through data in next line\n",
    "    data=(name,)#tuple with single variable\n",
    "    cursor.execute(sql,data)\n",
    "    connection.commit()\n",
    "  "
   ]
  },
  {
   "cell_type": "code",
   "execution_count": 58,
   "id": "1439d296",
   "metadata": {},
   "outputs": [],
   "source": [
    "add_author(\"bindu\") "
   ]
  },
  {
   "cell_type": "code",
   "execution_count": 59,
   "id": "95f8cef8",
   "metadata": {},
   "outputs": [],
   "source": [
    "add_author(\"babu\") "
   ]
  },
  {
   "cell_type": "code",
   "execution_count": 60,
   "id": "8410948d",
   "metadata": {},
   "outputs": [],
   "source": [
    "#inserting values to books table"
   ]
  },
  {
   "cell_type": "code",
   "execution_count": 65,
   "id": "5808cba0",
   "metadata": {},
   "outputs": [],
   "source": [
    "def add_book(title,authors_id,category,price):\n",
    "    connection=connect_to_database()\n",
    "    cursor=connection.cursor()\n",
    "    #curser is an object that used to connect our python and sql\n",
    "    sql=\"INSERT INTO books(title,authors_id,category,price) VALUES (%s,%s,%s,%s)\"\n",
    "    #values in %S is provided through data in next line\n",
    "    data=(title,authors_id,category,price)#tuple with multiple variable\n",
    "    cursor.execute(sql,data)\n",
    "    connection.commit()"
   ]
  },
  {
   "cell_type": "code",
   "execution_count": 66,
   "id": "22a90e1a",
   "metadata": {},
   "outputs": [],
   "source": [
    "add_book('ammamanas',7,'poem',15.99)"
   ]
  },
  {
   "cell_type": "code",
   "execution_count": 67,
   "id": "cc6c25a5",
   "metadata": {},
   "outputs": [],
   "source": [
    "add_book('daddy cool',8,'story',16.99)"
   ]
  },
  {
   "cell_type": "code",
   "execution_count": 71,
   "id": "6fb100dc",
   "metadata": {},
   "outputs": [],
   "source": [
    "def get_all_books():\n",
    "    connection=connect_to_database()\n",
    "    cursor=connection.cursor()\n",
    "    sql=\"SELECT * FROM books\"\n",
    "    cursor.execute(sql)\n",
    "    results=cursor.fetchall()\n",
    "    for row in results:\n",
    "        print(f\"title:{row[1]},authors_id:{row[2]},category:{row[3]},price:{row[4]}\")"
   ]
  },
  {
   "cell_type": "code",
   "execution_count": 73,
   "id": "4774ebf1",
   "metadata": {},
   "outputs": [
    {
     "name": "stdout",
     "output_type": "stream",
     "text": [
      "title:funny gooys,authors_id:1,category:romance,price:15.00\n",
      "title:matured girls,authors_id:2,category:poetry,price:20.00\n",
      "title:teachers life,authors_id:3,category:mystery,price:10.00\n",
      "title:physics life,authors_id:4,category:fiction,price:12.00\n",
      "title:college gang,authors_id:5,category:comedy,price:13.00\n",
      "title:ammamanas,authors_id:7,category:poem,price:15.99\n",
      "title:daddy cool,authors_id:8,category:story,price:16.99\n"
     ]
    }
   ],
   "source": [
    "get_all_books()"
   ]
  },
  {
   "cell_type": "code",
   "execution_count": 74,
   "id": "e4e8f2f8",
   "metadata": {},
   "outputs": [],
   "source": [
    "#how to search"
   ]
  },
  {
   "cell_type": "code",
   "execution_count": 79,
   "id": "80245659",
   "metadata": {},
   "outputs": [],
   "source": [
    "def search_books(search_term):\n",
    "    connection=connect_to_database()\n",
    "    cursor=connection.cursor()\n",
    "    sql=\"SELECT * FROM books INNER JOIN author ON author.id=books.authors_id WHERE title LIKE %s OR author.name LIKE %s\"\n",
    "    search_param=(\"%\"+search_term+\"%\",\"%\"+search_term+\"%\")\n",
    "    cursor.execute(sql,search_param)\n",
    "    results=cursor.fetchall()\n",
    "    for row in results:\n",
    "        print(f\"title:{row[1]},authors_id:{row[2]},category:{row[3]},price:{row[4]}\")"
   ]
  },
  {
   "cell_type": "code",
   "execution_count": 82,
   "id": "558a2430",
   "metadata": {},
   "outputs": [
    {
     "name": "stdout",
     "output_type": "stream",
     "text": [
      "title:daddy cool,authors_id:8,category:story,price:16.99\n"
     ]
    }
   ],
   "source": [
    "search_books(\"daddy cool\")"
   ]
  },
  {
   "cell_type": "code",
   "execution_count": 86,
   "id": "796de455",
   "metadata": {},
   "outputs": [
    {
     "name": "stdout",
     "output_type": "stream",
     "text": [
      "title:ammamanas,authors_id:7,category:poem,price:15.99\n"
     ]
    }
   ],
   "source": [
    "search_books(\"ammamanas\")"
   ]
  },
  {
   "cell_type": "code",
   "execution_count": 87,
   "id": "338611f4",
   "metadata": {},
   "outputs": [
    {
     "name": "stdout",
     "output_type": "stream",
     "text": [
      "title:daddy cool,authors_id:8,category:story,price:16.99\n"
     ]
    }
   ],
   "source": [
    "search_books(\"babu\")"
   ]
  },
  {
   "cell_type": "code",
   "execution_count": 88,
   "id": "656a037c",
   "metadata": {},
   "outputs": [
    {
     "name": "stdout",
     "output_type": "stream",
     "text": [
      "title:funny gooys,authors_id:1,category:romance,price:15.00\n"
     ]
    }
   ],
   "source": [
    "search_books(\"beema\")"
   ]
  },
  {
   "cell_type": "code",
   "execution_count": null,
   "id": "dd8972db",
   "metadata": {},
   "outputs": [],
   "source": []
  }
 ],
 "metadata": {
  "kernelspec": {
   "display_name": "Python 3 (ipykernel)",
   "language": "python",
   "name": "python3"
  },
  "language_info": {
   "codemirror_mode": {
    "name": "ipython",
    "version": 3
   },
   "file_extension": ".py",
   "mimetype": "text/x-python",
   "name": "python",
   "nbconvert_exporter": "python",
   "pygments_lexer": "ipython3",
   "version": "3.11.5"
  }
 },
 "nbformat": 4,
 "nbformat_minor": 5
}
